{
 "cells": [
  {
   "cell_type": "code",
   "execution_count": null,
   "id": "28e93223-d6d5-45fa-aa08-aa54742ce776",
   "metadata": {
    "tags": []
   },
   "outputs": [],
   "source": [
    "\"\"\"Sample for reading and writing to BigQuery.\"\"\"\n",
    "\n",
    "import logging\n",
    "import buildflow as flow"
   ]
  },
  {
   "cell_type": "code",
   "execution_count": null,
   "id": "c0a8fcbc-af8b-43a3-85a1-203b5a477b5d",
   "metadata": {
    "tags": []
   },
   "outputs": [],
   "source": [
    "# TODO: fill in TABLE in query.\n",
    "_QUERY = \"\"\"\\\n",
    "SELECT\n",
    "  *\n",
    "FROM\n",
    "  `TABLE`\n",
    "\"\"\"\n",
    "logging.basicConfig(level=logging.INFO)\n",
    "\n",
    "@flow.processor(\n",
    "    input_ref=flow.BigQuery(query=_QUERY),\n",
    ")\n",
    "def process(bq_row):\n",
    "    return bq_row\n",
    "\n",
    "# NOTE: it is best to keep flow.run in the same block as your processor\n",
    "# definition.\n",
    "output = flow.run(num_replicas=5)"
   ]
  },
  {
   "cell_type": "code",
   "execution_count": null,
   "id": "31dfefe5-d41a-4030-8b1f-6a75cd754496",
   "metadata": {
    "tags": []
   },
   "outputs": [],
   "source": [
    "print(output)"
   ]
  }
 ],
 "metadata": {
  "kernelspec": {
   "display_name": "3_10_0",
   "language": "python",
   "name": "python3"
  },
  "language_info": {
   "codemirror_mode": {
    "name": "ipython",
    "version": 3
   },
   "file_extension": ".py",
   "mimetype": "text/x-python",
   "name": "python",
   "nbconvert_exporter": "python",
   "pygments_lexer": "ipython3",
   "version": "3.10.0"
  },
  "vscode": {
   "interpreter": {
    "hash": "44534748364a5959ef3facc023192c1eee6f412acbac485cf96c5da2ef8eedda"
   }
  }
 },
 "nbformat": 4,
 "nbformat_minor": 5
}
