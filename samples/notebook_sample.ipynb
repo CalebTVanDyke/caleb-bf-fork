{
 "cells": [
  {
   "cell_type": "code",
   "execution_count": null,
   "metadata": {},
   "outputs": [],
   "source": [
    "import logging\n",
    "logging.basicConfig(level=logging.INFO)\n",
    "\n",
    "import buildflow as flow\n",
    "import ray"
   ]
  },
  {
   "cell_type": "code",
   "execution_count": null,
   "metadata": {},
   "outputs": [],
   "source": [
    "# TODO(developer): Add a table.\n",
    "_INPUT_TABLE_ID = ''\n",
    "\n",
    "\n",
    "@flow.processor(input_ref=flow.BigQuery(table_id=_INPUT_TABLE_ID))\n",
    "def process_table(table: ray.data.Dataset):\n",
    "    return table\n",
    "\n",
    "# NOTE: It is best to keep flow.run and your processor definition in the same\n",
    "# code block.\n",
    "output = flow.run(num_replicas=1)"
   ]
  },
  {
   "cell_type": "code",
   "execution_count": null,
   "metadata": {},
   "outputs": [],
   "source": [
    "print(output)"
   ]
  }
 ],
 "metadata": {
  "kernelspec": {
   "display_name": "Python 3",
   "language": "python",
   "name": "python3"
  },
  "language_info": {
   "codemirror_mode": {
    "name": "ipython",
    "version": 3
   },
   "file_extension": ".py",
   "mimetype": "text/x-python",
   "name": "python",
   "nbconvert_exporter": "python",
   "pygments_lexer": "ipython3",
   "version": "3.9.13"
  },
  "orig_nbformat": 4,
  "vscode": {
   "interpreter": {
    "hash": "9e7ea89ac1220c678592816c7ec2155d748e0864defa7fd0c3473b324888e4d1"
   }
  }
 },
 "nbformat": 4,
 "nbformat_minor": 2
}
