{
 "cells": [
  {
   "cell_type": "code",
   "execution_count": 1,
   "metadata": {
    "tags": []
   },
   "outputs": [],
   "source": [
    "import logging\n",
    "logging.basicConfig(level=logging.INFO)\n",
    "\n",
    "from buildflow import Flow\n",
    "import buildflow\n",
    "import ray"
   ]
  },
  {
   "cell_type": "code",
   "execution_count": 2,
   "metadata": {
    "tags": []
   },
   "outputs": [
    {
     "name": "stdout",
     "output_type": "stream",
     "text": [
      "Usage stats collection is enabled. To disable add the flag: `--disable_usage_stats`.\n",
      "Starting Flow Runtime\n"
     ]
    },
    {
     "name": "stderr",
     "output_type": "stream",
     "text": [
      "INFO:root:Starting 1 streams for reading from BigQuery.\n",
      "INFO:root:Reading in 2184.0 rows per stream.\n",
      "WARNING:root:Number of streams (1) matched number of replicas. You maybe be able to get more parallelism by increasing replicas.\n",
      "2023-03-03 10:16:23,542\tINFO worker.py:1529 -- Started a local Ray instance. View the dashboard at \u001b[1m\u001b[32m127.0.0.1:8265 \u001b[39m\u001b[22m\n"
     ]
    },
    {
     "name": "stdout",
     "output_type": "stream",
     "text": [
      "\u001b[2m\u001b[36m(_ProcessActor pid=201160)\u001b[0m Running processor setup: <class 'buildflow.runtime.processor.AdHocProcessor_46e16c85'>\n"
     ]
    },
    {
     "name": "stderr",
     "output_type": "stream",
     "text": [
      "\u001b[2m\u001b[36m(BigQuerySourceActor pid=201164)\u001b[0m 2023-03-03 10:16:27,670\tWARNING worker.py:2284 -- Using blocking ray.get inside async actor. This blocks the event loop. Please use `await` on object ref with asyncio.gather if you want to yield execution to the event loop instead.\n",
      "INFO:root:Starting 1 streams for reading from BigQuery.\n",
      "INFO:root:Reading in 2184.0 rows per stream.\n",
      "WARNING:root:Number of streams (1) matched number of replicas. You maybe be able to get more parallelism by increasing replicas.\n"
     ]
    },
    {
     "name": "stdout",
     "output_type": "stream",
     "text": [
      "\u001b[2m\u001b[36m(_ProcessActor pid=201406)\u001b[0m Running processor setup: <class 'buildflow.runtime.processor.AdHocProcessor_2dfcf74e'>\n",
      "Flow finished successfully\n"
     ]
    },
    {
     "name": "stderr",
     "output_type": "stream",
     "text": [
      "\u001b[2m\u001b[36m(BigQuerySourceActor pid=201408)\u001b[0m 2023-03-03 10:16:30,899\tWARNING worker.py:2284 -- Using blocking ray.get inside async actor. This blocks the event loop. Please use `await` on object ref with asyncio.gather if you want to yield execution to the event loop instead.\n"
     ]
    }
   ],
   "source": [
    "# TODO(developer): Add a table.\n",
    "_INPUT_TABLE_ID1 = ''\n",
    "_INPUT_TABLE_ID2 = ''\n",
    "\n",
    "flow = Flow()\n",
    "\n",
    "@flow.processor(input_ref=buildflow.BigQuery(table_id=_INPUT_TABLE_ID1))\n",
    "def process_table1(table: ray.data.Dataset):\n",
    "    return table\n",
    "\n",
    "@flow.processor(input_ref=buildflow.BigQuery(table_id=_INPUT_TABLE_ID2))\n",
    "def process_table2(table: ray.data.Dataset):\n",
    "    return table\n",
    "# NOTE: It is best to keep flow.run and your processor definition in the same\n",
    "# code block.\n",
    "output = flow.run(num_replicas=1)"
   ]
  },
  {
   "cell_type": "code",
   "execution_count": 4,
   "metadata": {
    "tags": []
   },
   "outputs": [
    {
     "name": "stdout",
     "output_type": "stream",
     "text": [
      "table1:  [Dataset(num_blocks=1, num_rows=2184, schema={state_fips_code: string, state_name: string, forecast_date: date32[day], prediction_date: date32[day], new_confirmed: double, cumulative_confirmed: double, new_confirmed_7day_rolling: double, new_deaths: double, cumulative_deaths: double, new_deaths_7day_rolling: double, hospitalized_patients: double, intensive_care_patients: double, ventilator_patients: double, recovered: double, new_confirmed_ground_truth: double, cumulative_confirmed_ground_truth: double, new_deaths_ground_truth: double, cumulative_deaths_ground_truth: double, hospitalized_patients_ground_truth: double, intensive_care_patients_ground_truth: double, ventilator_patients_ground_truth: double, recovered_documented_ground_truth: double, state_population: int64})]\n",
      "table2:  [Dataset(num_blocks=1, num_rows=2184, schema={state_fips_code: string, state_name: string, forecast_date: date32[day], prediction_date: date32[day], new_confirmed: double, cumulative_confirmed: double, new_confirmed_7day_rolling: double, new_deaths: double, cumulative_deaths: double, new_deaths_7day_rolling: double, hospitalized_patients: double, intensive_care_patients: double, ventilator_patients: double, recovered: double, new_confirmed_ground_truth: double, cumulative_confirmed_ground_truth: double, new_deaths_ground_truth: double, cumulative_deaths_ground_truth: double, hospitalized_patients_ground_truth: double, intensive_care_patients_ground_truth: double, ventilator_patients_ground_truth: double, recovered_documented_ground_truth: double, state_population: int64})]\n"
     ]
    }
   ],
   "source": [
    "print('table1: ', output['process_table1']['local'])\n",
    "print('table2: ', output['process_table2']['local'])"
   ]
  },
  {
   "cell_type": "code",
   "execution_count": null,
   "metadata": {},
   "outputs": [],
   "source": []
  }
 ],
 "metadata": {
  "kernelspec": {
   "display_name": "Python 3 (ipykernel)",
   "language": "python",
   "name": "python3"
  },
  "language_info": {
   "codemirror_mode": {
    "name": "ipython",
    "version": 3
   },
   "file_extension": ".py",
   "mimetype": "text/x-python",
   "name": "python",
   "nbconvert_exporter": "python",
   "pygments_lexer": "ipython3",
   "version": "3.10.0"
  },
  "vscode": {
   "interpreter": {
    "hash": "9e7ea89ac1220c678592816c7ec2155d748e0864defa7fd0c3473b324888e4d1"
   }
  }
 },
 "nbformat": 4,
 "nbformat_minor": 4
}
